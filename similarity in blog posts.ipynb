{
 "cells": [
  {
   "cell_type": "code",
   "execution_count": 182,
   "id": "strong-marsh",
   "metadata": {},
   "outputs": [],
   "source": [
    "from PIL import Image\n",
    "\n",
    "import imagehash\n",
    "\n",
    "import requests\n",
    "\n",
    "from bs4 import BeautifulSoup\n",
    "\n",
    "from nltk.tokenize import word_tokenize\n",
    "\n",
    "import string\n",
    "\n",
    "from nltk.corpus import stopwords\n",
    "\n",
    "def similarity(link):\n",
    "    res = requests.get(link)\n",
    "    soup = BeautifulSoup(res.text, 'html.parser')\n",
    "    text2=soup.find('div', { \"class\" : \"field field--body\" }).text \n",
    "    text=text2\n",
    "    \n",
    "    tokens = word_tokenize(text)\n",
    "    # convert to lower case\n",
    "    tokens = [w.lower() for w in tokens]\n",
    "    # remove punctuation from each word\n",
    "    table = str.maketrans('', '', string.punctuation)\n",
    "    stripped = [w.translate(table) for w in tokens]\n",
    "    # remove remaining tokens that are not alphabetic\n",
    "    words = [word for word in stripped if word.isalpha()]\n",
    "    # filter out stop words\n",
    "\n",
    "    stop_words = set(stopwords.words('english'))\n",
    "    words = [w for w in words if not w in stop_words]\n",
    "    #print(words)\n",
    "    from nltk.stem.porter import PorterStemmer\n",
    "    porter = PorterStemmer()\n",
    "    words = [porter.stem(word) for word in words]\n",
    "    #print(words)\n",
    "    from sklearn.feature_extraction.text import CountVectorizer\n",
    "\n",
    "    vectorizer = CountVectorizer()\n",
    "    X = vectorizer.fit_transform(words)\n",
    "    Y=vectorizer.get_feature_names()\n",
    "    from sklearn.decomposition import LatentDirichletAllocation\n",
    "\n",
    "    number_of_topics = 1\n",
    "\n",
    "    model = LatentDirichletAllocation(n_components=number_of_topics, random_state=0)\n",
    "    model.fit(X)\n",
    "    import pandas as pd\n",
    "    def display_topics(model, feature_names, no_top_words):\n",
    "        topic_dict = {}\n",
    "        for topic_idx, topic in enumerate(model.components_):\n",
    "            topic_dict[\"Topic %d words\" % (topic_idx)]= ['{}'.format(feature_names[i])\n",
    "                            for i in topic.argsort()[:-no_top_words - 1:-1]]\n",
    "            topic_dict[\"Topic %d weights\" % (topic_idx)]= ['{:.1f}'.format(topic[i])\n",
    "                            for i in topic.argsort()[:-no_top_words - 1:-1]]\n",
    "        return pd.DataFrame(topic_dict)\n",
    "    no_top_words = 20\n",
    "    display_topics(model, Y, no_top_words)\n",
    "    T1=display_topics(model, Y, no_top_words)\n",
    "    return list(T1['Topic 0 words'])\n"
   ]
  },
  {
   "cell_type": "code",
   "execution_count": 192,
   "id": "vocal-response",
   "metadata": {},
   "outputs": [],
   "source": [
    "first=similarity('https://wri-india.org/pt/blog/how-indian-companies-are-moving-quickly-carbon-pricing')\n"
   ]
  },
  {
   "cell_type": "code",
   "execution_count": 193,
   "id": "ranging-reducing",
   "metadata": {},
   "outputs": [],
   "source": [
    "second=similarity('https://wri-india.org/pt/blog/going-local-climate-action')"
   ]
  },
  {
   "cell_type": "code",
   "execution_count": 195,
   "id": "injured-garbage",
   "metadata": {},
   "outputs": [
    {
     "data": {
      "text/plain": [
       "8.108108108108109"
      ]
     },
     "execution_count": 195,
     "metadata": {},
     "output_type": "execute_result"
    }
   ],
   "source": [
    "res = len(set(first) & set(second)) / float(len(set(first) | set(second))) *100 \n",
    "res\n"
   ]
  },
  {
   "cell_type": "code",
   "execution_count": null,
   "id": "cordless-barrel",
   "metadata": {},
   "outputs": [],
   "source": [
    "print('the similarity between texts is',res,'%')"
   ]
  },
  {
   "cell_type": "code",
   "execution_count": 186,
   "id": "finite-chain",
   "metadata": {},
   "outputs": [],
   "source": [
    "url = 'https://wri-india.org/sites/default/files/styles/large/public/Climate_Change.jpg?itok=MwJpVbYb/sites/all/themes/wri/images/logo.png'\n",
    "\n",
    "page = requests.get(url)\n",
    "\n",
    "f_ext = os.path.splitext(url)[-1]\n",
    "f_name = 'img1{}'.format(f_ext)\n",
    "with open(f_name, 'wb') as f:\n",
    "    f.write(page.content)"
   ]
  },
  {
   "cell_type": "code",
   "execution_count": 187,
   "id": "governing-amplifier",
   "metadata": {},
   "outputs": [],
   "source": [
    "url = 'https://wri-india.org/sites/default/files/styles/large/public/ashim-d-silva-unsplash.jpg'\n",
    "\n",
    "page = requests.get(url)\n",
    "\n",
    "f_ext = os.path.splitext(url)[-1]\n",
    "f_namee = 'img2{}'.format(f_ext)\n",
    "with open(f_namee, 'wb') as f:\n",
    "    f.write(page.content)"
   ]
  },
  {
   "cell_type": "code",
   "execution_count": 188,
   "id": "spatial-depth",
   "metadata": {},
   "outputs": [
    {
     "name": "stdout",
     "output_type": "stream",
     "text": [
      "64\n"
     ]
    }
   ],
   "source": [
    "import imagehash\n",
    "\n",
    "hashh = imagehash.average_hash(Image.open('img1.png'))\n",
    "otherhash = imagehash.average_hash(Image.open('img2.jpg'))\n",
    "imgsim=100-(hashh - otherhash)\n",
    "print(imgsim)"
   ]
  },
  {
   "cell_type": "code",
   "execution_count": 189,
   "id": "victorian-edwards",
   "metadata": {},
   "outputs": [
    {
     "data": {
      "text/plain": [
       "21.951219512195124"
      ]
     },
     "execution_count": 189,
     "metadata": {},
     "output_type": "execute_result"
    }
   ],
   "source": [
    "totalsim=abs((imgsim-res)*100/(imgsim+res))\n",
    "totalsim"
   ]
  },
  {
   "cell_type": "code",
   "execution_count": 197,
   "id": "municipal-hawaii",
   "metadata": {},
   "outputs": [
    {
     "name": "stdout",
     "output_type": "stream",
     "text": [
      "the blog is 8.108108108108109 % similar in text and 64 % similar in imaging\n",
      "overall the blog is 21.951219512195124 % similar\n"
     ]
    }
   ],
   "source": [
    "print('the blog is',res,'% similar in text and',imgsim,'% similar in imaging')\n",
    "print('overall the blog is',totalsim,'% similar')"
   ]
  },
  {
   "cell_type": "code",
   "execution_count": null,
   "id": "weekly-rachel",
   "metadata": {},
   "outputs": [],
   "source": []
  },
  {
   "cell_type": "code",
   "execution_count": null,
   "id": "valued-trunk",
   "metadata": {},
   "outputs": [],
   "source": []
  }
 ],
 "metadata": {
  "kernelspec": {
   "display_name": "Python 3",
   "language": "python",
   "name": "python3"
  },
  "language_info": {
   "codemirror_mode": {
    "name": "ipython",
    "version": 3
   },
   "file_extension": ".py",
   "mimetype": "text/x-python",
   "name": "python",
   "nbconvert_exporter": "python",
   "pygments_lexer": "ipython3",
   "version": "3.9.1"
  }
 },
 "nbformat": 4,
 "nbformat_minor": 5
}
